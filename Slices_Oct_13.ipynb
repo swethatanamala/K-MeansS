{
 "cells": [
  {
   "cell_type": "markdown",
   "metadata": {
    "slideshow": {
     "slide_type": "slide"
    }
   },
   "source": [
    "# Welcome to Code-along Workship\n",
    "### October 13 - Session - No 4\n",
    "### Topic - Clustering"
   ]
  },
  {
   "cell_type": "markdown",
   "metadata": {
    "slideshow": {
     "slide_type": "subslide"
    }
   },
   "source": [
    "# Instructor - Swetha Tanamala\n",
    "***\n",
    "\n",
    "+ Completed B-Tech and M-Tech from IIT Madras\n",
    "    - Machine Learning Electives and Projects from the 4th semester\n",
    "    - Year Long Project on Pattern Recognition\n",
    "+ Joined [Qure](http://qure.ai/) as Data Scientist\n",
    "    - Deep Learning Algorithms\n",
    "    - Natural Language Processing\n",
    "    - AWS for data storing\n",
    "    - [Blog](https://swethatanamala.github.io/)\n"
   ]
  },
  {
   "cell_type": "markdown",
   "metadata": {
    "slideshow": {
     "slide_type": "slide"
    }
   },
   "source": [
    "# Agenda\n",
    "***\n",
    "* Introduction to Clustering\n",
    "* Various Clustering methods\n",
    "* k-means clustering\n",
    "* Clustering in Python"
   ]
  },
  {
   "cell_type": "markdown",
   "metadata": {
    "slideshow": {
     "slide_type": "subslide"
    }
   },
   "source": [
    "# Types of Learning methods\n",
    "***\n",
    "+ Supervised Learning methods\n",
    "+ Unsupervised Learning methods\n",
    "+ Semi-Supervised Learning methods\n",
    "+ Reinforcement Learning methods"
   ]
  },
  {
   "cell_type": "markdown",
   "metadata": {
    "slideshow": {
     "slide_type": "subslide"
    }
   },
   "source": [
    "# Supervised Learning Methods\n",
    "***"
   ]
  },
  {
   "cell_type": "markdown",
   "metadata": {
    "slideshow": {
     "slide_type": "fragment"
    }
   },
   "source": [
    "![](images/image29.png)"
   ]
  },
  {
   "cell_type": "markdown",
   "metadata": {
    "slideshow": {
     "slide_type": "subslide"
    }
   },
   "source": [
    "![](images/image30.png)"
   ]
  },
  {
   "cell_type": "markdown",
   "metadata": {
    "slideshow": {
     "slide_type": "subslide"
    }
   },
   "source": [
    "# Algorithms for Supervised learning\n",
    "***\n",
    "+ Support Vector Machines (SVM)\n",
    "+ Linear Regression \n",
    "+ Logistic Regression\n",
    "+ Linear Discriminant Analysis (LDA)\n",
    "+ Neural Networks"
   ]
  },
  {
   "cell_type": "markdown",
   "metadata": {
    "slideshow": {
     "slide_type": "slide"
    }
   },
   "source": [
    "# Unsupervised Learning Methods\n",
    "***\n",
    "+ Unsupervised learning is a branch of machine learning that learns from the data that has not been labeled, classified or categorized"
   ]
  },
  {
   "cell_type": "markdown",
   "metadata": {
    "slideshow": {
     "slide_type": "subslide"
    }
   },
   "source": [
    "# ![](images/image32.png)"
   ]
  },
  {
   "cell_type": "markdown",
   "metadata": {
    "slideshow": {
     "slide_type": "subslide"
    }
   },
   "source": [
    "# Aim is to find the structure and relationship within this data"
   ]
  },
  {
   "cell_type": "markdown",
   "metadata": {
    "slideshow": {
     "slide_type": "slide"
    }
   },
   "source": [
    "# What can be the problems?\n",
    "***\n",
    "\n",
    "- Clustering the data\n",
    "- Dimensionality Reduction\n",
    "- Predicting Probability Density function(PDF)"
   ]
  },
  {
   "cell_type": "markdown",
   "metadata": {
    "slideshow": {
     "slide_type": "slide"
    }
   },
   "source": [
    "# Cluster Analysis\n",
    "***\n",
    "> Cluster analysis or clustering is the task of grouping a set of objects in such a way that objects in the same group (called a cluster) are more similar (in some sense or another) to each other than to those in other groups (clusters)."
   ]
  },
  {
   "cell_type": "markdown",
   "metadata": {
    "slideshow": {
     "slide_type": "subslide"
    }
   },
   "source": [
    "# Clustering - Let's keep it simple\n",
    "***\n",
    "- Organise the given input data into the given number of clusters (say k)\n",
    "- Objective\n",
    "    + High intra Cluster similarity\n",
    "    + Low inter Cluster similarity"
   ]
  },
  {
   "cell_type": "markdown",
   "metadata": {
    "slideshow": {
     "slide_type": "fragment"
    }
   },
   "source": [
    "# How do we Calculate similarity?\n",
    "***\n",
    "- Simlarity of cluster analysis depends on what?"
   ]
  },
  {
   "cell_type": "markdown",
   "metadata": {
    "slideshow": {
     "slide_type": "subslide"
    }
   },
   "source": [
    "# Answer\n",
    "- Achieved by \n",
    "    + what constitutes a cluster\n",
    "    + how to efficiently find them.\n",
    "- Therefore, Cluster analysis itself is not one specific algorithm, but the general task to be solved"
   ]
  },
  {
   "cell_type": "markdown",
   "metadata": {
    "slideshow": {
     "slide_type": "slide"
    }
   },
   "source": [
    "# Applications of clustering - Unsupervised Machine learning\n",
    "***\n",
    "Clustering is an extremely useful technique in **both supervised and unsupervised machine learning**\n",
    "* Clustering is one of the most popular techniques for spotting the underlying pattern in a dataset\n",
    "* Some of the use cases are:\n",
    "    * It started with pulse code modulation in Bell Labs in 1957 - Then it is called Floyd's algorithm\n",
    "    * Clustering genes\n",
    "    * Market Segmentation\n",
    "    * Clustering web-pages, example: news.google.com"
   ]
  },
  {
   "cell_type": "markdown",
   "metadata": {
    "slideshow": {
     "slide_type": "subslide"
    }
   },
   "source": [
    "# Applications of clustering - Supervised Machine learning\n",
    "#### Exploratory Data Analysis\n",
    "* Which observations are nearer to each-other\n",
    "    - Algorithm: k-nearset neighbors algorithm\n",
    "* Example\n",
    "    "
   ]
  },
  {
   "cell_type": "markdown",
   "metadata": {
    "slideshow": {
     "slide_type": "subslide"
    }
   },
   "source": [
    "# ![](images/image33.jpeg)"
   ]
  },
  {
   "cell_type": "markdown",
   "metadata": {
    "slideshow": {
     "slide_type": "slide"
    }
   },
   "source": [
    "# Let's understand few models\n",
    "\n",
    "- Now we understood: Cluster analysis itself is not one specific algorithm, but the **general task** to be solved.\n",
    "- Models\n",
    "    + Connectivity models: Hierarchical clustering"
   ]
  },
  {
   "cell_type": "markdown",
   "metadata": {
    "slideshow": {
     "slide_type": "subslide"
    }
   },
   "source": [
    "# Hierarchial Clustering\n",
    "\n",
    "**Hierarchical clustering**, in which,\n",
    "\n",
    "* Clusters can be **visualized using a dendrogram** (aka tree diagram)\n",
    "* Possible to view partitions at different levels of granularities (i.e., can refine/coarsen clusters) using different K\n",
    "    \n",
    "![](images/image02.png)"
   ]
  },
  {
   "cell_type": "markdown",
   "metadata": {
    "slideshow": {
     "slide_type": "subslide"
    }
   },
   "source": [
    "# Hierarchial Clustering\n",
    "There are two major ways in which hierarchical clustering can be carried out:\n",
    "\n",
    "1. Agglomerative or Bottom-Up Clustering\n",
    "2. Divisive or Top-Down Clustering"
   ]
  },
  {
   "cell_type": "markdown",
   "metadata": {
    "slideshow": {
     "slide_type": "subslide"
    }
   },
   "source": [
    "# Agglomerative Clustering\n",
    "\n",
    "## Key operation\n",
    "\n",
    "* Start with all examples in the same cluster\n",
    "* Repeatedly combine two nearest clusters into a cluster."
   ]
  },
  {
   "cell_type": "markdown",
   "metadata": {
    "slideshow": {
     "slide_type": "subslide"
    }
   },
   "source": [
    "# Key questions\n",
    "\n",
    "1. How do you represent a cluster of more than one point?\n",
    "2. How do you determine the **nearness** of clusters?\n",
    "3. When to stop combining clusters?\n",
    "\n",
    "Understand the answers to the above questions by working on a example"
   ]
  },
  {
   "cell_type": "markdown",
   "metadata": {
    "slideshow": {
     "slide_type": "subslide"
    }
   },
   "source": [
    "# Euclidean Space\n",
    "\n",
    "> Average two points and consider average is also an point (artificial)\n",
    "\n",
    "1. Ans: Centroid to present a cluster, here centroid is a average of all points in cluster\n",
    "2. Ans: Measure cluster distances by distances of centroids"
   ]
  },
  {
   "cell_type": "markdown",
   "metadata": {
    "slideshow": {
     "slide_type": "subslide"
    }
   },
   "source": [
    "# Non Euclidean Space\n",
    "\n",
    "> Doesn't use centroid to represent the cluster\n",
    "\n",
    "1. Ans: Clustroid - This is point itself which is closest to other points\n",
    "2. Ans: Treat clustroid as if it were centroid when compiling intercluster distances"
   ]
  },
  {
   "cell_type": "markdown",
   "metadata": {
    "slideshow": {
     "slide_type": "subslide"
    }
   },
   "source": [
    "# When to stop clustering?\n",
    "\n",
    "1. If k is already given, then stop when we have k clusters\n",
    "2. Stop when next merge would create a cluster with low cohesion\n",
    "    - Cohesion: goodness of cluster\n",
    "    - If diameter is less than certain threshold\n",
    "    - If radius is less than certain threshold\n",
    "    - If density is less than certain threshold"
   ]
  },
  {
   "cell_type": "markdown",
   "metadata": {
    "slideshow": {
     "slide_type": "subslide"
    }
   },
   "source": [
    "# Complexity\n",
    "\n",
    "1. Naive implementation - $O(N^3)$\n",
    "2. Careful implementation using priority queue - $O(N^2logN)$ at the cost of memory overhead\n",
    "\n",
    "Therefore doesn't fit to **big datasets**"
   ]
  },
  {
   "cell_type": "markdown",
   "metadata": {
    "slideshow": {
     "slide_type": "slide"
    }
   },
   "source": [
    "# K-means Clustering\n",
    "***\n",
    "k-means clustering aims to partition **n observations** into **k clusters** in which each observation belongs to the cluster with the nearest mean, serving as a prototype of the cluster.\n",
    "\n",
    "\n",
    "Clusters in \"k-means clustering\" follow these two underlying rules \n",
    "* The \"cluster center\" is the arithmetic mean of all the points belonging to the cluster.\n",
    "* Each point is closer to its own cluster center than to other cluster centers.\n",
    "\n",
    "![](images/image03.png)"
   ]
  },
  {
   "cell_type": "markdown",
   "metadata": {
    "slideshow": {
     "slide_type": "subslide"
    }
   },
   "source": [
    "# Let's look at math\n",
    "\n",
    "***\n",
    "The K-means objective function for k-means as follows:\n",
    "* Let µ1, . . . , µK be the K cluster centroids (means)\n",
    "* Let $r_{nk}$ ∈ {0, 1} be indicator denoting whether point $x_n$ belongs to cluster k\n",
    "\n",
    "\n",
    "K-means objective minimizes the total distortion (sum of distances of points from their cluster centers)\n",
    "\n",
    "$$J(µ,r) = \\sum_{n=1}^{N}\\sum_{k=1}^{K}r_{nk}||X_n − µ_k ||^2$$"
   ]
  },
  {
   "cell_type": "markdown",
   "metadata": {
    "slideshow": {
     "slide_type": "subslide"
    }
   },
   "source": [
    "## K-means: A bit of math\n",
    "***\n",
    "The exact optimization of the K-means objective is **NP-hard**, which means that actually solving the problem is computationally very expensive, however, given a solution, checking whether it is correct or not is relatively easy!\n",
    "\n",
    "\n",
    "This means that actually solving the problem and coming up with cluster centroids is computationally very expensive. However, given a set of cluster centroids, checking if they are good approximations is computationally cheap. Therefore, the **K-means algorithm is performed using a heuristic** that helps us converge to a solution faster. Let's see how that works."
   ]
  },
  {
   "cell_type": "markdown",
   "metadata": {
    "slideshow": {
     "slide_type": "subslide"
    }
   },
   "source": [
    "# K-means: Algorithmic approach\n",
    "***\n",
    "\n",
    "k-means is a particularly simple and easy-to-understand application of an iterative algorithm known as **Expectation–Maximization**, and we will walk through it briefly here. \n",
    "\n",
    "\n",
    "The expectation–maximization approach here consists of the following procedure:\n",
    "1. Guess some cluster centers\n",
    "2. Repeat until converged\n",
    "    * E-Step: assign points to the nearest cluster center\n",
    "    * M-Step: set the cluster centers to the mean"
   ]
  },
  {
   "cell_type": "markdown",
   "metadata": {
    "slideshow": {
     "slide_type": "subslide"
    }
   },
   "source": [
    "# More on Expectation–Maximization\n",
    "***\n",
    "\n",
    "* Here the \"E-step\" or \"Expectation step\" is so-named because it involves updating our expectation of which cluster each point belongs to. \n",
    "* The \"M-step\" or \"Maximization step\" is so-named because it involves maximizing some fitness function that defines the location of the cluster centers — in this case, that maximization is accomplished by taking a simple mean of the data in each cluster.\n",
    "\n",
    "\n",
    "\n",
    "This algorithm can be summarized as follows: **Under typical circumstances, each repetition of the E-step and M-step will always result in a better estimate of the cluster characteristics.*"
   ]
  },
  {
   "cell_type": "markdown",
   "metadata": {
    "slideshow": {
     "slide_type": "subslide"
    }
   },
   "source": [
    "Great! Now, let's see how this heuristic is performed."
   ]
  },
  {
   "cell_type": "markdown",
   "metadata": {
    "slideshow": {
     "slide_type": "slide"
    }
   },
   "source": [
    "# Populating clusters\n",
    "\n",
    "* **Step 1**: Start by making a guess on where the central points of each cluster are. Let’s call these pseudo-centers, since we do not yet know if they are actually at the center of their clusters.\n",
    "* **Step 2**: Assign each data point to the nearest pseudo-center. By doing so, we have just formed clusters, with each cluster comprising all data points associated with its pseudo-center.\n",
    "* **Step 3**: Update the location of each cluster’s pseudo-center, such that it is now indeed in the center of all its members.\n",
    "* **Step 4**: Repeat the steps of re-assigning cluster members (Step 2) and re-locating cluster centers (Step 3), until there are no more changes to cluster membership."
   ]
  },
  {
   "cell_type": "markdown",
   "metadata": {
    "slideshow": {
     "slide_type": "slide"
    }
   },
   "source": [
    "# ![](images/image23.png) "
   ]
  },
  {
   "cell_type": "markdown",
   "metadata": {
    "slideshow": {
     "slide_type": "subslide"
    }
   },
   "source": [
    "Let's understand the k-means clustering algorithm using following **examples**"
   ]
  },
  {
   "cell_type": "markdown",
   "metadata": {
    "slideshow": {
     "slide_type": "slide"
    }
   },
   "source": [
    "# **gif 1: 2 Clusters Example**\n",
    "\n",
    "\n",
    "![](images/image20.gif)"
   ]
  },
  {
   "cell_type": "markdown",
   "metadata": {
    "slideshow": {
     "slide_type": "slide"
    }
   },
   "source": [
    "# **gif 2: Multiple Clusters Example**\n",
    "\n",
    "![](https://datasciencelab.files.wordpress.com/2013/12/p_n2000_k15_.gif)"
   ]
  },
  {
   "cell_type": "markdown",
   "metadata": {
    "slideshow": {
     "slide_type": "subslide"
    }
   },
   "source": [
    "In the next few slides, we will check why k-means is so popular among all clustering algorithms"
   ]
  },
  {
   "cell_type": "markdown",
   "metadata": {
    "slideshow": {
     "slide_type": "slide"
    }
   },
   "source": [
    "# Popularity of k-means\n",
    "***\n",
    "* Fast\n",
    "* Easy to understand\n",
    "* Available everywhere"
   ]
  },
  {
   "cell_type": "markdown",
   "metadata": {
    "slideshow": {
     "slide_type": "slide"
    }
   },
   "source": [
    "# Popularity of k-means\n",
    "***\n",
    "To demonstrate the popularity of k-means, here are some variants. And no, we are not going to cover them!\n",
    "* K-Means\n",
    "* K-Means++ (only changes how to initialize centroids)\n",
    "* Online K-Means\n",
    "* Spherical K-Means\n",
    "* K-Medoids\n",
    "* Kernel K-Means\n",
    "* K-Modes\n",
    "* Bisecting K-Means\n",
    "* Fuzzy C-Means"
   ]
  },
  {
   "cell_type": "markdown",
   "metadata": {
    "slideshow": {
     "slide_type": "subslide"
    }
   },
   "source": [
    "Time to make our hands dirty!! Will start now programmatic approach"
   ]
  },
  {
   "cell_type": "markdown",
   "metadata": {
    "slideshow": {
     "slide_type": "slide"
    }
   },
   "source": [
    "# K-means clustering in `sklearn`\n",
    "***\n",
    "Many clustering algorithms are available in Scikit-Learn and elsewhere, but perhaps the simplest to understand is k-means clustering, which is implemented in **`sklearn.cluster.KMeans`**"
   ]
  },
  {
   "cell_type": "markdown",
   "metadata": {
    "slideshow": {
     "slide_type": "slide"
    }
   },
   "source": [
    "# Iris data for understanding k-means clustering\n",
    "\n",
    "<img src=\"images/image35.jpg\" alt=\"irisdata\" style=\"width: 200px;float:center;\"/>\n"
   ]
  },
  {
   "cell_type": "markdown",
   "metadata": {
    "slideshow": {
     "slide_type": "fragment"
    }
   },
   "source": [
    "# The dataset contains a set of 150 records under five attributes\n",
    "- petal length\n",
    "- petal width\n",
    "- sepal length\n",
    "- sepal width \n",
    "- species as class name"
   ]
  },
  {
   "cell_type": "code",
   "execution_count": 39,
   "metadata": {
    "slideshow": {
     "slide_type": "subslide"
    }
   },
   "outputs": [],
   "source": [
    "import pandas as pd, numpy as np\n",
    "from sklearn.cluster import KMeans\n",
    "from sklearn.datasets import load_iris"
   ]
  },
  {
   "cell_type": "code",
   "execution_count": 40,
   "metadata": {
    "slideshow": {
     "slide_type": "subslide"
    }
   },
   "outputs": [],
   "source": [
    "iris = load_iris()"
   ]
  },
  {
   "cell_type": "code",
   "execution_count": 54,
   "metadata": {
    "slideshow": {
     "slide_type": "subslide"
    }
   },
   "outputs": [],
   "source": [
    "X = iris.data\n",
    "y = iris.target"
   ]
  },
  {
   "cell_type": "code",
   "execution_count": 53,
   "metadata": {
    "slideshow": {
     "slide_type": "fragment"
    }
   },
   "outputs": [
    {
     "data": {
      "text/plain": [
       "array([4.9, 3. , 1.4, 0.2])"
      ]
     },
     "execution_count": 53,
     "metadata": {},
     "output_type": "execute_result"
    }
   ],
   "source": [
    "X[1]"
   ]
  },
  {
   "cell_type": "code",
   "execution_count": 46,
   "metadata": {
    "slideshow": {
     "slide_type": "fragment"
    }
   },
   "outputs": [
    {
     "data": {
      "text/plain": [
       "array([0, 1, 2])"
      ]
     },
     "execution_count": 46,
     "metadata": {},
     "output_type": "execute_result"
    }
   ],
   "source": [
    "#Groundtruths\n",
    "np.unique(y)"
   ]
  },
  {
   "cell_type": "markdown",
   "metadata": {
    "slideshow": {
     "slide_type": "slide"
    }
   },
   "source": [
    "# About k-means in scikit learn \n",
    "\n",
    "### Parameters\n",
    "- **n_clusters** : integer\n",
    "- **init** - can be ‘k-means++’, ‘random’ or an ndarray\n",
    "- **n_init** - Number of time the k-means algorithm will be run with different centroid seeds\n",
    "- **max_iter** - Maximum number of iterations of the k-means algorithm for a single run\n",
    "\n",
    "### Ouput in attributes\n",
    "- **cluster_centers_**\n",
    "- **labels_**\n",
    "- **inertia_**\n",
    "- **n_iter_**"
   ]
  },
  {
   "cell_type": "code",
   "execution_count": 48,
   "metadata": {
    "slideshow": {
     "slide_type": "subslide"
    }
   },
   "outputs": [
    {
     "data": {
      "text/plain": [
       "KMeans(algorithm='auto', copy_x=True, init='random', max_iter=300,\n",
       "    n_clusters=5, n_init=10, n_jobs=None, precompute_distances='auto',\n",
       "    random_state=None, tol=0.0001, verbose=0)"
      ]
     },
     "execution_count": 48,
     "metadata": {},
     "output_type": "execute_result"
    }
   ],
   "source": [
    "km = KMeans(init=\"random\", n_clusters=5)\n",
    "km.fit(X)"
   ]
  },
  {
   "cell_type": "code",
   "execution_count": 49,
   "metadata": {
    "slideshow": {
     "slide_type": "subslide"
    }
   },
   "outputs": [
    {
     "data": {
      "text/plain": [
       "array([0, 0, 0, 0, 0, 0, 0, 0, 0, 0, 0, 0, 0, 0, 0, 0, 0, 0, 0, 0, 0, 0,\n",
       "       0, 0, 0, 0, 0, 0, 0, 0, 0, 0, 0, 0, 0, 0, 0, 0, 0, 0, 0, 0, 0, 0,\n",
       "       0, 0, 0, 0, 0, 0, 1, 1, 1, 4, 1, 1, 1, 4, 1, 4, 4, 1, 4, 1, 4, 1,\n",
       "       1, 4, 1, 4, 1, 4, 1, 1, 1, 1, 1, 1, 1, 4, 4, 4, 4, 1, 4, 1, 1, 1,\n",
       "       4, 4, 4, 1, 4, 4, 4, 4, 4, 1, 4, 4, 3, 1, 2, 3, 3, 2, 4, 2, 3, 2,\n",
       "       3, 3, 3, 1, 3, 3, 3, 2, 2, 1, 3, 1, 2, 1, 3, 2, 1, 1, 3, 2, 2, 2,\n",
       "       3, 1, 1, 2, 3, 3, 1, 3, 3, 3, 1, 3, 3, 3, 1, 3, 3, 1], dtype=int32)"
      ]
     },
     "execution_count": 49,
     "metadata": {},
     "output_type": "execute_result"
    }
   ],
   "source": [
    "km.labels_"
   ]
  },
  {
   "cell_type": "code",
   "execution_count": 50,
   "metadata": {
    "slideshow": {
     "slide_type": "subslide"
    }
   },
   "outputs": [
    {
     "data": {
      "text/plain": [
       "array([[5.006     , 3.428     , 1.462     , 0.246     ],\n",
       "       [6.20769231, 2.85384615, 4.74615385, 1.56410256],\n",
       "       [7.475     , 3.125     , 6.3       , 2.05      ],\n",
       "       [6.52916667, 3.05833333, 5.50833333, 2.1625    ],\n",
       "       [5.508     , 2.6       , 3.908     , 1.204     ]])"
      ]
     },
     "execution_count": 50,
     "metadata": {},
     "output_type": "execute_result"
    }
   ],
   "source": [
    "km.cluster_centers_"
   ]
  },
  {
   "cell_type": "code",
   "execution_count": 16,
   "metadata": {
    "slideshow": {
     "slide_type": "subslide"
    }
   },
   "outputs": [
    {
     "data": {
      "text/plain": [
       "array([1], dtype=int32)"
      ]
     },
     "execution_count": 16,
     "metadata": {},
     "output_type": "execute_result"
    }
   ],
   "source": [
    "km.predict(X[1, np.newaxis])"
   ]
  },
  {
   "cell_type": "markdown",
   "metadata": {
    "slideshow": {
     "slide_type": "slide"
    }
   },
   "source": [
    "# Synthetic data for testing clustering algorithms\n",
    "***\n",
    "We'll create (and plot) synthetic datasets to understand k-means clustering better."
   ]
  },
  {
   "cell_type": "code",
   "execution_count": 17,
   "metadata": {
    "slideshow": {
     "slide_type": "slide"
    }
   },
   "outputs": [],
   "source": [
    "import matplotlib.pyplot as plt\n",
    "import seaborn as sns\n",
    "import sklearn.cluster as cluster\n",
    "import time\n",
    "\n",
    "%matplotlib inline\n",
    "sns.set_context('poster')\n",
    "sns.set_color_codes()\n",
    "plot_kwds = {'alpha' : 0.25, 's' : 80, 'linewidths':0}"
   ]
  },
  {
   "cell_type": "code",
   "execution_count": 55,
   "metadata": {
    "slideshow": {
     "slide_type": "slide"
    }
   },
   "outputs": [
    {
     "name": "stdout",
     "output_type": "stream",
     "text": [
      "(150, 2)\n"
     ]
    }
   ],
   "source": [
    "# generate two clusters: a with 100 points, b with 50:\n",
    "np.random.seed(9)  # for repeatability of this tutorial\n",
    "a = np.random.multivariate_normal([10, 0], [[3, 1], [1, 4]], size=[100,])\n",
    "b = np.random.multivariate_normal([0, 20], [[3, 1], [1, 4]], size=[50,])\n",
    "X = np.concatenate((a, b),)\n",
    "print(X.shape)  # 150 samples with 2 dimensions"
   ]
  },
  {
   "cell_type": "code",
   "execution_count": 22,
   "metadata": {
    "slideshow": {
     "slide_type": "slide"
    }
   },
   "outputs": [
    {
     "data": {
      "image/png": "[encoded data removed]",
      "text/plain": [
       "<Figure size 432x288 with 1 Axes>"
      ]
     },
     "metadata": {
      "needs_background": "light"
     },
     "output_type": "display_data"
    }
   ],
   "source": [
    "plt.scatter(X[:,0], X[:,1], c='b', **plot_kwds)\n",
    "frame = plt.gca()\n",
    "frame.axes.get_xaxis().set_visible(True)\n",
    "frame.axes.get_yaxis().set_visible(True)\n",
    "plt.show()"
   ]
  },
  {
   "cell_type": "code",
   "execution_count": 56,
   "metadata": {
    "slideshow": {
     "slide_type": "slide"
    }
   },
   "outputs": [
    {
     "data": {
      "image/png": "[encoded data removed]",
      "text/plain": [
       "<Figure size 432x288 with 1 Axes>"
      ]
     },
     "metadata": {
      "needs_background": "light"
     },
     "output_type": "display_data"
    }
   ],
   "source": [
    "c = np.random.multivariate_normal([40, 40], [[20, 1], [1, 30]], size=[200,])\n",
    "d = np.random.multivariate_normal([80, 80], [[30, 1], [1, 30]], size=[200,])\n",
    "e = np.random.multivariate_normal([0, 100], [[100, 1], [1, 100]], size=[200,])\n",
    "X2 = np.concatenate((X, c, d, e),)\n",
    "plt.scatter(X2[:,0], X2[:,1],  c='b', **plot_kwds)\n",
    "frame = plt.gca()\n",
    "frame.axes.get_xaxis().set_visible(True)\n",
    "frame.axes.get_yaxis().set_visible(True)\n",
    "plt.show()"
   ]
  },
  {
   "cell_type": "code",
   "execution_count": 24,
   "metadata": {
    "slideshow": {
     "slide_type": "slide"
    }
   },
   "outputs": [],
   "source": [
    "def plot_clusters(data, algorithm, args, kwds):\n",
    "    start_time = time.time()\n",
    "    labels = algorithm(*args, **kwds).fit_predict(data)\n",
    "    end_time = time.time()\n",
    "    palette = sns.color_palette('deep', np.unique(labels).max() + 1)\n",
    "    colors = [palette[x] if x >= 0 else (0.0, 0.0, 0.0) for x in labels]\n",
    "    plt.scatter(data.T[0], data.T[1], c=colors, **plot_kwds)\n",
    "    frame = plt.gca()\n",
    "    frame.axes.get_xaxis().set_visible(False)\n",
    "    frame.axes.get_yaxis().set_visible(False)\n",
    "    plt.title('Clusters found by {}'.format(str(algorithm.__name__)), fontsize=24)\n",
    "    plt.text(5, 10, 'Clustering took {:.2f} s'.format(end_time - start_time), fontsize=14)"
   ]
  },
  {
   "cell_type": "code",
   "execution_count": 25,
   "metadata": {
    "slideshow": {
     "slide_type": "slide"
    }
   },
   "outputs": [
    {
     "data": {
      "image/png": "[encoded data removed]",
      "text/plain": [
       "<Figure size 432x288 with 1 Axes>"
      ]
     },
     "metadata": {
      "needs_background": "light"
     },
     "output_type": "display_data"
    }
   ],
   "source": [
    "plot_clusters(X, cluster.KMeans, (),{'n_clusters':2})"
   ]
  },
  {
   "cell_type": "code",
   "execution_count": 26,
   "metadata": {
    "slideshow": {
     "slide_type": "slide"
    }
   },
   "outputs": [
    {
     "data": {
      "image/png": "[encoded data removed]",
      "text/plain": [
       "<Figure size 432x288 with 1 Axes>"
      ]
     },
     "metadata": {
      "needs_background": "light"
     },
     "output_type": "display_data"
    }
   ],
   "source": [
    "plot_clusters(X2, cluster.KMeans, (), {'n_clusters':5})"
   ]
  },
  {
   "cell_type": "markdown",
   "metadata": {
    "slideshow": {
     "slide_type": "slide"
    }
   },
   "source": [
    "# Shortcomings of k-means\n",
    "***\n",
    "**The globally optimal result may not be achieved**\n",
    "* There is no assurance that it will lead to the global best solution. \n",
    "* For example, if we use a different random seed in our simple procedure, the particular starting guesses lead to poor results\n",
    "\n",
    "**Way out**\n",
    "* For this reason, it is common for the algorithm to be run for multiple starting guesses, as indeed Scikit-Learn does by default (set by the n_init parameter, which defaults to 10).\n",
    "* Use better initialization strategies like k-means++"
   ]
  },
  {
   "cell_type": "markdown",
   "metadata": {
    "slideshow": {
     "slide_type": "slide"
    }
   },
   "source": [
    "# Shortcomings of k-means\n",
    "***\n",
    "**You need to specify exactly how many clusters you expect**\n",
    "* If you know a lot about your data then that is something you might expect to know\n",
    "* If, on the other hand, you are simply exploring a new dataset, then 'number of clusters' is a hard parameter to have any good intuition for\n",
    "\n",
    "**Way out**\n",
    "\n",
    "The usually proposed solution is to run K-Means for many different 'number of clusters' values and score each clustering with some 'cluster goodness' measure (usually a variation on intra-cluster vs inter-cluster distances) and attempt to find an 'elbow'"
   ]
  },
  {
   "cell_type": "code",
   "execution_count": 28,
   "metadata": {
    "slideshow": {
     "slide_type": "slide"
    }
   },
   "outputs": [],
   "source": [
    "# k means determine k\n",
    "distortions = []\n",
    "K = range(1,8)\n",
    "for k in K:\n",
    "    kmeanModel = KMeans(n_clusters=k)\n",
    "    kmeanModel.fit(X)\n",
    "    distortions.append(kmeanModel.inertia_)"
   ]
  },
  {
   "cell_type": "code",
   "execution_count": 29,
   "metadata": {
    "slideshow": {
     "slide_type": "slide"
    }
   },
   "outputs": [
    {
     "data": {
      "image/png": "[encoded data removed]",
      "text/plain": [
       "<Figure size 432x288 with 1 Axes>"
      ]
     },
     "metadata": {
      "needs_background": "light"
     },
     "output_type": "display_data"
    }
   ],
   "source": [
    "# Plot the elbow\n",
    "plt.plot(K, distortions, 'bx-')\n",
    "plt.xlabel('k')\n",
    "plt.ylabel('Distortion')\n",
    "plt.title('The Elbow Method showing the optimal k')\n",
    "plt.show()"
   ]
  },
  {
   "cell_type": "code",
   "execution_count": 30,
   "metadata": {
    "slideshow": {
     "slide_type": "slide"
    }
   },
   "outputs": [],
   "source": [
    "# k means determine k\n",
    "distortions = []\n",
    "K = range(1,12)\n",
    "for k in K:\n",
    "    kmeanModel = KMeans(n_clusters=k)\n",
    "    kmeanModel.fit(X2)\n",
    "    distortions.append(kmeanModel.inertia_)"
   ]
  },
  {
   "cell_type": "code",
   "execution_count": 31,
   "metadata": {
    "slideshow": {
     "slide_type": "slide"
    }
   },
   "outputs": [
    {
     "data": {
      "image/png": "[encoded data removed]",
      "text/plain": [
       "<Figure size 432x288 with 1 Axes>"
      ]
     },
     "metadata": {
      "needs_background": "light"
     },
     "output_type": "display_data"
    }
   ],
   "source": [
    "# Plot the elbow\n",
    "plt.plot(K, distortions, 'bx-')\n",
    "plt.xlabel('k')\n",
    "plt.ylabel('Distortion')\n",
    "plt.title('The Elbow Method showing the optimal k')\n",
    "plt.show()"
   ]
  },
  {
   "cell_type": "markdown",
   "metadata": {
    "slideshow": {
     "slide_type": "slide"
    }
   },
   "source": [
    "# Shortcomings of k-means\n",
    "***\n",
    "**k-means is limited to linear cluster boundaries**\n",
    "* The fundamental model assumptions of k-means (points will be closer to their own cluster center than to others) means that the algorithm will often be ineffective if the clusters have complicated geometries.\n",
    "* In particular, the boundaries between k-means clusters will always be linear, which means that it will fail for more complicated boundaries:"
   ]
  },
  {
   "cell_type": "code",
   "execution_count": 33,
   "metadata": {
    "slideshow": {
     "slide_type": "slide"
    }
   },
   "outputs": [],
   "source": [
    "from sklearn.datasets import make_moons\n",
    "X3, y3 = make_moons(200, noise=.05, random_state=0)"
   ]
  },
  {
   "cell_type": "code",
   "execution_count": 34,
   "metadata": {
    "slideshow": {
     "slide_type": "slide"
    }
   },
   "outputs": [
    {
     "data": {
      "image/png": "[encoded data removed]",
      "text/plain": [
       "<Figure size 432x288 with 1 Axes>"
      ]
     },
     "metadata": {
      "needs_background": "light"
     },
     "output_type": "display_data"
    }
   ],
   "source": [
    "labels = KMeans(2, random_state=0).fit_predict(X3)\n",
    "plt.scatter(X3[:, 0], X3[:, 1], c=labels, s=50, cmap='viridis');"
   ]
  },
  {
   "cell_type": "markdown",
   "metadata": {
    "slideshow": {
     "slide_type": "subslide"
    }
   },
   "source": [
    "### Way out\n",
    "***\n",
    "One way to overcome this is through kernelized k-means, which is implemented in `Scikit-Learn` within the `SpectralClustering` estimator. It uses the graph of nearest neighbors to compute a higher-dimensional representation of the data, and then assigns labels using a k-means algorithm\n",
    "\n",
    "We will not be covering these topics. However, here is [sklearn's page on various clustering techniques](http://scikit-learn.org/stable/modules/clustering.html). It is good starting point."
   ]
  },
  {
   "cell_type": "code",
   "execution_count": 35,
   "metadata": {
    "slideshow": {
     "slide_type": "slide"
    }
   },
   "outputs": [
    {
     "name": "stderr",
     "output_type": "stream",
     "text": [
      "/Users/swetha.tanamala/anaconda/lib/python3.6/site-packages/sklearn/manifold/spectral_embedding_.py:237: UserWarning: Graph is not fully connected, spectral embedding may not work as expected.\n",
      "  warnings.warn(\"Graph is not fully connected, spectral embedding\"\n"
     ]
    },
    {
     "data": {
      "image/png": "[encoded data removed]",
      "text/plain": [
       "<Figure size 432x288 with 1 Axes>"
      ]
     },
     "metadata": {
      "needs_background": "light"
     },
     "output_type": "display_data"
    }
   ],
   "source": [
    "from sklearn.cluster import SpectralClustering\n",
    "model = SpectralClustering(n_clusters=2, affinity='nearest_neighbors', assign_labels='kmeans')\n",
    "labels = model.fit_predict(X3)\n",
    "plt.scatter(X3[:, 0], X3[:, 1], c=labels, s=50, cmap='viridis');"
   ]
  },
  {
   "cell_type": "markdown",
   "metadata": {
    "slideshow": {
     "slide_type": "slide"
    }
   },
   "source": [
    "# Shortcomings of k-means\n",
    "***\n",
    "**It is a partitioning algorithm**\n",
    "* It partitions your dataset into as many (assumed to be globular) chunks as you ask for by attempting to minimize intra-partition distances\n",
    "* Can not accommodate clusters of different shapes (other than the one determined by its distance metric)"
   ]
  },
  {
   "cell_type": "markdown",
   "metadata": {
    "slideshow": {
     "slide_type": "slide"
    }
   },
   "source": [
    "# # Shortcomings of k-means\n",
    "***\n",
    "2. Inability to identify non-linear boundaries\n",
    "\n",
    "![](images/image22.png)"
   ]
  },
  {
   "cell_type": "markdown",
   "metadata": {
    "slideshow": {
     "slide_type": "slide"
    }
   },
   "source": [
    "# Summary: Shortcomings of k-means\n",
    "***\n",
    "![](images/image25.png)"
   ]
  },
  {
   "cell_type": "markdown",
   "metadata": {
    "slideshow": {
     "slide_type": "slide"
    }
   },
   "source": [
    "# Shortcomings of k-means\n",
    "***\n",
    "**k-means can be slow for large numbers of samples**\n",
    "\n",
    "* Because each iteration of k-means must access every point in the dataset, the algorithm can be relatively slow as the number of samples grows. \n",
    "* The complexity for each run is $O(kN)$\n",
    "\n",
    "**Way out**\n",
    "* One way to overcome this problem is through relaxing requirement to use all data at each iteration can be relaxed.\n",
    "* For example, we might just use a subset of the data to update the cluster centers at each step. \n",
    "* This is the idea behind **batch-based k-means algorithms**, one form of which is implemented in **`sklearn.cluster.MiniBatchKMeans`**. \n",
    "* Can also use BFR algorithm to run a single pass over the entire data"
   ]
  },
  {
   "cell_type": "markdown",
   "metadata": {
    "slideshow": {
     "slide_type": "slide"
    }
   },
   "source": [
    "# Thank you"
   ]
  },
  {
   "cell_type": "code",
   "execution_count": 57,
   "metadata": {},
   "outputs": [],
   "source": []
  },
  {
   "cell_type": "code",
   "execution_count": 59,
   "metadata": {},
   "outputs": [
    {
     "ename": "SyntaxError",
     "evalue": "invalid syntax (<ipython-input-59-4d6a1928959c>, line 1)",
     "output_type": "error",
     "traceback": [
      "\u001b[0;36m  File \u001b[0;32m\"<ipython-input-59-4d6a1928959c>\"\u001b[0;36m, line \u001b[0;32m1\u001b[0m\n\u001b[0;31m    **dict\u001b[0m\n\u001b[0m     ^\u001b[0m\n\u001b[0;31mSyntaxError\u001b[0m\u001b[0;31m:\u001b[0m invalid syntax\n"
     ]
    }
   ],
   "source": []
  },
  {
   "cell_type": "code",
   "execution_count": null,
   "metadata": {},
   "outputs": [],
   "source": []
  }
 ],
 "metadata": {
  "celltoolbar": "Slideshow",
  "kernelspec": {
   "display_name": "Python 3",
   "language": "python",
   "name": "python3"
  },
  "language_info": {
   "codemirror_mode": {
    "name": "ipython",
    "version": 3
   },
   "file_extension": ".py",
   "mimetype": "text/x-python",
   "name": "python",
   "nbconvert_exporter": "python",
   "pygments_lexer": "ipython3",
   "version": "3.6.6"
  }
 },
 "nbformat": 4,
 "nbformat_minor": 2
}
